{
 "cells": [
  {
   "cell_type": "code",
   "execution_count": 93,
   "metadata": {},
   "outputs": [],
   "source": [
    "import numpy as np\n",
    "from math import exp, pow\n",
    "from numpy.linalg import inv\n",
    "from functools import reduce\n",
    "import matplotlib.pyplot as plt"
   ]
  },
  {
   "cell_type": "markdown",
   "metadata": {},
   "source": [
    "## Interpolation with RBF"
   ]
  },
  {
   "cell_type": "code",
   "execution_count": 3,
   "metadata": {},
   "outputs": [],
   "source": [
    "inp = np.array([2, 3, 4])\n",
    "out = np.array([3, 6, 5])\n",
    "center = np.array([2, 4])"
   ]
  },
  {
   "cell_type": "markdown",
   "metadata": {},
   "source": [
    "$$\n",
    "f( x) =\\sum ^{P}_{p=1} a_{p} .R_{p} +b\n",
    "$$\n",
    "\n",
    "$$\n",
    "R_{p} = e^{-\\frac{1}{2\\sigma ^{2}} .\\parallel ( X_{i}) -( X_{p}) \\parallel ^{2}}\n",
    "$$\n",
    "\n",
    "$$\n",
    "\\sigma =\\frac{P_{max} -P_{min}}{\\sqrt{2P}}\n",
    "$$\n",
    "\n",
    "$$\n",
    "\\sigma =\\frac{4-2}{\\sqrt{2.2}} \\ \n",
    "$$\n",
    "\n",
    "$$\n",
    "\\sigma ^{2} =1\n",
    "$$\n",
    "\n",
    "$$\n",
    "C_{1}=2\n",
    "$$\n",
    "\n",
    "$$\n",
    "C_{2}=4\n",
    "$$"
   ]
  },
  {
   "cell_type": "code",
   "execution_count": 14,
   "metadata": {},
   "outputs": [],
   "source": [
    "def gaussian (x, c):\n",
    "    return exp(-0.5 * pow((x - c), 2))"
   ]
  },
  {
   "cell_type": "code",
   "execution_count": 42,
   "metadata": {},
   "outputs": [],
   "source": [
    "R = np.ones((len(inp), (len(center) + 1)))\n",
    "\n",
    "for i, iv in enumerate(inp):\n",
    "    for j, jv in enumerate(center):\n",
    "        R[i, j] =(gaussian(inp[i], center[j]))"
   ]
  },
  {
   "cell_type": "code",
   "execution_count": 44,
   "metadata": {},
   "outputs": [
    {
     "data": {
      "text/plain": [
       "array([[1.        , 0.13533528, 1.        ],\n",
       "       [0.60653066, 0.60653066, 1.        ],\n",
       "       [0.13533528, 1.        , 1.        ]])"
      ]
     },
     "execution_count": 44,
     "metadata": {},
     "output_type": "execute_result"
    }
   ],
   "source": [
    "R"
   ]
  },
  {
   "cell_type": "markdown",
   "metadata": {},
   "source": [
    "$$\\displaystyle \\frac{1}{[ R]} =\\left([ R]^{t} .[ R]\\right)^{-1} .[ R]^{t}$$"
   ]
  },
  {
   "cell_type": "code",
   "execution_count": 49,
   "metadata": {},
   "outputs": [],
   "source": [
    "Rt = R.transpose()"
   ]
  },
  {
   "cell_type": "code",
   "execution_count": 53,
   "metadata": {},
   "outputs": [],
   "source": [
    "RtR = Rt.dot(R)"
   ]
  },
  {
   "cell_type": "code",
   "execution_count": 56,
   "metadata": {},
   "outputs": [],
   "source": [
    "iRtR = inv(RtR)"
   ]
  },
  {
   "cell_type": "code",
   "execution_count": 62,
   "metadata": {},
   "outputs": [],
   "source": [
    "oneR = iRtR.dot(Rt)"
   ]
  },
  {
   "cell_type": "markdown",
   "metadata": {},
   "source": [
    "$$\n",
    "\\displaystyle \\begin{bmatrix}\n",
    "a\n",
    "\\end{bmatrix} =\\frac{1}{[ R]} \\ \\begin{bmatrix}\n",
    "A\n",
    "\\end{bmatrix}\n",
    "$$"
   ]
  },
  {
   "cell_type": "code",
   "execution_count": 64,
   "metadata": {},
   "outputs": [],
   "source": [
    "a = oneR.dot(out)"
   ]
  },
  {
   "cell_type": "code",
   "execution_count": 88,
   "metadata": {},
   "outputs": [],
   "source": [
    "def RBF(x):\n",
    "    y = a * [gaussian(x, 2), gaussian(x, 4), 1]\n",
    "    return reduce((lambda x, y: x + y), y)"
   ]
  },
  {
   "cell_type": "code",
   "execution_count": 105,
   "metadata": {},
   "outputs": [
    {
     "data": {
      "text/plain": [
       "[-10.00965072898239,\n",
       " -2.3451368248388675,\n",
       " 3.0000000000004583,\n",
       " 5.202720311121578,\n",
       " 5.999999999999879,\n",
       " 6.493034173618817,\n",
       " 4.999999999999666,\n",
       " -0.40551802762518463,\n",
       " -8.632419412309869]"
      ]
     },
     "execution_count": 105,
     "metadata": {},
     "output_type": "execute_result"
    }
   ],
   "source": [
    "input_test = [1, 1.5, 2, 2.5, 3, 3.5, 4, 4.5, 5]\n",
    "output_test = list(map(RBF, input_test))\n",
    "output_test"
   ]
  },
  {
   "cell_type": "code",
   "execution_count": 106,
   "metadata": {},
   "outputs": [
    {
     "data": {
      "image/png": "[encoded data removed]",
      "text/plain": [
       "<Figure size 432x288 with 1 Axes>"
      ]
     },
     "metadata": {},
     "output_type": "display_data"
    }
   ],
   "source": [
    "plt.plot(input_test, output_test)\n",
    "plt.plot([2,3,4], [3,6,5], 'ro')\n",
    "plt.yscale('linear')\n",
    "plt.xscale('linear')\n",
    "plt.ylabel('expected vs predicted')\n",
    "plt.show()"
   ]
  },
  {
   "cell_type": "code",
   "execution_count": null,
   "metadata": {},
   "outputs": [],
   "source": []
  },
  {
   "cell_type": "code",
   "execution_count": null,
   "metadata": {},
   "outputs": [],
   "source": []
  }
 ],
 "metadata": {
  "kernelspec": {
   "display_name": "Python 2",
   "language": "python",
   "name": "python2"
  },
  "language_info": {
   "codemirror_mode": {
    "name": "ipython",
    "version": 2
   },
   "file_extension": ".py",
   "mimetype": "text/x-python",
   "name": "python",
   "nbconvert_exporter": "python",
   "pygments_lexer": "ipython2",
   "version": "2.7.15"
  }
 },
 "nbformat": 4,
 "nbformat_minor": 2
}
